{
  "nbformat": 4,
  "nbformat_minor": 0,
  "metadata": {
    "colab": {
      "name": "Jean Fraga LS_DS8_123_Make_Explanatory_Visualizations_Assignment.ipynb",
      "version": "0.3.2",
      "provenance": [],
      "collapsed_sections": []
    },
    "language_info": {
      "codemirror_mode": {
        "name": "ipython",
        "version": 3
      },
      "file_extension": ".py",
      "mimetype": "text/x-python",
      "name": "python",
      "nbconvert_exporter": "python",
      "pygments_lexer": "ipython3",
      "version": "3.7.1"
    },
    "kernelspec": {
      "display_name": "Python 3",
      "language": "python",
      "name": "python3"
    }
  },
  "cells": [
    {
      "cell_type": "markdown",
      "metadata": {
        "colab_type": "text",
        "id": "NMEswXWh9mqw"
      },
      "source": [
        "# ASSIGNMENT\n",
        "\n",
        "### 1) Replicate the lesson code. I recommend that you [do not copy-paste](https://docs.google.com/document/d/1ubOw9B3Hfip27hF2ZFnW3a3z9xAgrUDRReOEo-FHCVs/edit).\n",
        "\n",
        "Get caught up to where we got our example in class and then try and take things further. How close to \"pixel perfect\" can you make the lecture graph?\n",
        "\n",
        "Once you have something that you're proud of, share your graph in the cohort channel and move on to the second exercise.\n",
        "\n",
        "### 2) Reproduce another example from [FiveThityEight's shared data repository](https://data.fivethirtyeight.com/).\n",
        "\n",
        "**WARNING**: There are a lot of very custom graphs and tables at the above link. I **highly** recommend not trying to reproduce any that look like a table of values or something really different from the graph types that we are already familiar with. Search through the posts until you find a graph type that you are more or less familiar with: histogram, bar chart, stacked bar chart, line chart, [seaborn relplot](https://seaborn.pydata.org/generated/seaborn.relplot.html), etc. Recreating some of the graphics that 538 uses would be a lot easier in Adobe photoshop/illustrator than with matplotlib. \n",
        "\n",
        "- If you put in some time to find a graph that looks \"easy\" to replicate you'll probably find that it's not as easy as you thought. \n",
        "\n",
        "- If you start with a graph that looks hard to replicate you'll probably run up against a brick wall and be disappointed with your afternoon.\n",
        "\n",
        "\n",
        "\n",
        "\n",
        "\n",
        "\n",
        "\n",
        "\n",
        "\n",
        "\n"
      ]
    },
    {
      "cell_type": "code",
      "metadata": {
        "id": "7SY1ZHawyZvz",
        "colab_type": "code",
        "colab": {
          "base_uri": "https://localhost:8080/",
          "height": 506
        },
        "outputId": "34cf4cd1-e3f1-493a-a13a-436c06b59aaf"
      },
      "source": [
        "%matplotlib inline\n",
        "import matplotlib.pyplot as plt\n",
        "import pandas as pd\n",
        "\n",
        "#Uses the 538 stylesheet\n",
        "#from https://matplotlib.org/3.1.1/gallery/style_sheets/style_sheets_reference.html\n",
        "\n",
        "fake = pd.Series([38, 3, 2, 1, 2, 4, 6, 5, 5, 33], \n",
        "                 index=range(1,11))\n",
        "\n",
        "def make_fiveThirtyEight(df_data):\n",
        "  \"\"\"Takes a data frame and displays graph in the same way as the lecture's example.\n",
        "  def make_fiveThirtyEight(df_data):\"\"\"\n",
        "  \n",
        "  plt.style.use('fivethirtyeight')\n",
        "\n",
        "  #generates the figure to store into fig\n",
        "  fig = plt.figure(dpi=95)\n",
        "  fig.patch.set(facecolor='white')\n",
        "  \n",
        "  #generate our axes into ax\n",
        "  ax  = df_data.plot.bar(color=\"#ED713A\", width=0.9)\n",
        "  ax.set(facecolor='white')\n",
        "  \n",
        "  #text from graph\n",
        "  ax.text(x=-1.8, y=44, s=\"'An Inconvenient Sequel: Truth To Power' is divisive\",\n",
        "         fontweight='bold', fontsize=12)\n",
        "  ax.text(x=-1.8, y=41.5, s=\"IMDb ratings for the film as of Aug. 29\",\n",
        "         fontsize=11)\n",
        "  \n",
        "  # Set our axis labels (These are just text objects that have been rotated!!)\n",
        "  ax.set_ylabel(\"Percent of total votes\", fontsize=9, fontweight='bold',\n",
        "               labelpad=10)\n",
        "  ax.set_xlabel(\"Rating\", fontsize=9, fontweight='bold', labelpad=10)\n",
        "  \n",
        "  # Fix our tick lables. Yet again, these are text and use the text parameters!\n",
        "  ax.set_xticklabels(range(1,11), rotation=0)\n",
        "  ax.set_yticks(range(0,50,10))\n",
        "  ax.set_yticklabels(range(0,50,10))\n",
        "  \n",
        "  # \"Squelch\" the funny return output that shows up above the graph\n",
        "  #plt.show()\n",
        "  \n",
        "  show = plt.show()\n",
        "  \n",
        "  return show\n",
        "\n",
        "print (make_fiveThirtyEight.__doc__, \"\\n\")\n",
        "make_fiveThirtyEight(fake)"
      ],
      "execution_count": 24,
      "outputs": [
        {
          "output_type": "stream",
          "text": [
            "Takes a data frame and displays graph in the same way as the lecture's example.\n",
            "  def make_fiveThirtyEight(df_data): \n",
            "\n"
          ],
          "name": "stdout"
        },
        {
          "output_type": "display_data",
          "data": {
            "image/png": "[encoded data removed]",
            "text/plain": [
              "<Figure size 570x380 with 1 Axes>"
            ]
          },
          "metadata": {
            "tags": []
          }
        }
      ]
    },
    {
      "cell_type": "code",
      "metadata": {
        "id": "rodASDRVROPD",
        "colab_type": "code",
        "colab": {
          "base_uri": "https://localhost:8080/",
          "height": 442
        },
        "outputId": "945f02ff-f43b-428c-c531-1fd23157be70"
      },
      "source": [
        "from IPython.display import display, Image\n",
        "\n",
        "trump_approval = 'https://projects.fivethirtyeight.com/trump-approval-data/approval_polllist.csv'\n",
        "trump_approval_example = 'https://github.com/JeanFraga/DS-Unit-1-Sprint-2-Data-Wrangling-and-Storytelling/raw/master/module3-make-explanatory-visualizations/Trump_approval_ratings.PNG'\n",
        "\n",
        "df = pd.read_csv(trump_approval, index_col='enddate')\n",
        "example = Image(url=trump_approval_example, width=600)\n",
        "\n",
        "pd.read_csv()\n",
        "print(df.shape)\n",
        "df.head()"
      ],
      "execution_count": 47,
      "outputs": [
        {
          "output_type": "stream",
          "text": [
            "(9610, 21)\n"
          ],
          "name": "stdout"
        },
        {
          "output_type": "execute_result",
          "data": {
            "text/html": [
              "<div>\n",
              "<style scoped>\n",
              "    .dataframe tbody tr th:only-of-type {\n",
              "        vertical-align: middle;\n",
              "    }\n",
              "\n",
              "    .dataframe tbody tr th {\n",
              "        vertical-align: top;\n",
              "    }\n",
              "\n",
              "    .dataframe thead th {\n",
              "        text-align: right;\n",
              "    }\n",
              "</style>\n",
              "<table border=\"1\" class=\"dataframe\">\n",
              "  <thead>\n",
              "    <tr style=\"text-align: right;\">\n",
              "      <th></th>\n",
              "      <th>president</th>\n",
              "      <th>subgroup</th>\n",
              "      <th>modeldate</th>\n",
              "      <th>startdate</th>\n",
              "      <th>pollster</th>\n",
              "      <th>grade</th>\n",
              "      <th>samplesize</th>\n",
              "      <th>population</th>\n",
              "      <th>weight</th>\n",
              "      <th>influence</th>\n",
              "      <th>approve</th>\n",
              "      <th>disapprove</th>\n",
              "      <th>adjusted_approve</th>\n",
              "      <th>adjusted_disapprove</th>\n",
              "      <th>multiversions</th>\n",
              "      <th>tracking</th>\n",
              "      <th>url</th>\n",
              "      <th>poll_id</th>\n",
              "      <th>question_id</th>\n",
              "      <th>createddate</th>\n",
              "      <th>timestamp</th>\n",
              "    </tr>\n",
              "    <tr>\n",
              "      <th>enddate</th>\n",
              "      <th></th>\n",
              "      <th></th>\n",
              "      <th></th>\n",
              "      <th></th>\n",
              "      <th></th>\n",
              "      <th></th>\n",
              "      <th></th>\n",
              "      <th></th>\n",
              "      <th></th>\n",
              "      <th></th>\n",
              "      <th></th>\n",
              "      <th></th>\n",
              "      <th></th>\n",
              "      <th></th>\n",
              "      <th></th>\n",
              "      <th></th>\n",
              "      <th></th>\n",
              "      <th></th>\n",
              "      <th></th>\n",
              "      <th></th>\n",
              "      <th></th>\n",
              "    </tr>\n",
              "  </thead>\n",
              "  <tbody>\n",
              "    <tr>\n",
              "      <th>1/22/2017</th>\n",
              "      <td>Donald Trump</td>\n",
              "      <td>All polls</td>\n",
              "      <td>9/11/2019</td>\n",
              "      <td>1/20/2017</td>\n",
              "      <td>Morning Consult</td>\n",
              "      <td>B-</td>\n",
              "      <td>1992.0</td>\n",
              "      <td>rv</td>\n",
              "      <td>0.944206</td>\n",
              "      <td>0.0</td>\n",
              "      <td>46.0</td>\n",
              "      <td>37.0</td>\n",
              "      <td>44.36462</td>\n",
              "      <td>38.66838</td>\n",
              "      <td>NaN</td>\n",
              "      <td>NaN</td>\n",
              "      <td>http://static.politico.com/9b/13/82a3baf542ae9...</td>\n",
              "      <td>49249</td>\n",
              "      <td>77261</td>\n",
              "      <td>1/23/2017</td>\n",
              "      <td>19:02:44 11 Sep 2019</td>\n",
              "    </tr>\n",
              "    <tr>\n",
              "      <th>1/22/2017</th>\n",
              "      <td>Donald Trump</td>\n",
              "      <td>All polls</td>\n",
              "      <td>9/11/2019</td>\n",
              "      <td>1/20/2017</td>\n",
              "      <td>Gallup</td>\n",
              "      <td>B</td>\n",
              "      <td>1500.0</td>\n",
              "      <td>a</td>\n",
              "      <td>0.245429</td>\n",
              "      <td>0.0</td>\n",
              "      <td>45.0</td>\n",
              "      <td>45.0</td>\n",
              "      <td>46.13142</td>\n",
              "      <td>43.29468</td>\n",
              "      <td>NaN</td>\n",
              "      <td>T</td>\n",
              "      <td>http://www.gallup.com/poll/201617/gallup-daily...</td>\n",
              "      <td>49253</td>\n",
              "      <td>77265</td>\n",
              "      <td>1/23/2017</td>\n",
              "      <td>19:02:44 11 Sep 2019</td>\n",
              "    </tr>\n",
              "    <tr>\n",
              "      <th>1/23/2017</th>\n",
              "      <td>Donald Trump</td>\n",
              "      <td>All polls</td>\n",
              "      <td>9/11/2019</td>\n",
              "      <td>1/21/2017</td>\n",
              "      <td>Gallup</td>\n",
              "      <td>B</td>\n",
              "      <td>1500.0</td>\n",
              "      <td>a</td>\n",
              "      <td>0.226788</td>\n",
              "      <td>0.0</td>\n",
              "      <td>45.0</td>\n",
              "      <td>46.0</td>\n",
              "      <td>46.13142</td>\n",
              "      <td>44.29468</td>\n",
              "      <td>NaN</td>\n",
              "      <td>T</td>\n",
              "      <td>http://www.gallup.com/poll/201617/gallup-daily...</td>\n",
              "      <td>49262</td>\n",
              "      <td>77274</td>\n",
              "      <td>1/24/2017</td>\n",
              "      <td>19:02:44 11 Sep 2019</td>\n",
              "    </tr>\n",
              "    <tr>\n",
              "      <th>1/24/2017</th>\n",
              "      <td>Donald Trump</td>\n",
              "      <td>All polls</td>\n",
              "      <td>9/11/2019</td>\n",
              "      <td>1/20/2017</td>\n",
              "      <td>Ipsos</td>\n",
              "      <td>B+</td>\n",
              "      <td>1632.0</td>\n",
              "      <td>a</td>\n",
              "      <td>0.224456</td>\n",
              "      <td>0.0</td>\n",
              "      <td>42.1</td>\n",
              "      <td>45.2</td>\n",
              "      <td>42.85934</td>\n",
              "      <td>43.94924</td>\n",
              "      <td>NaN</td>\n",
              "      <td>T</td>\n",
              "      <td>http://polling.reuters.com/#poll/CP3_2/</td>\n",
              "      <td>49426</td>\n",
              "      <td>77599</td>\n",
              "      <td>3/1/2017</td>\n",
              "      <td>19:02:44 11 Sep 2019</td>\n",
              "    </tr>\n",
              "    <tr>\n",
              "      <th>1/24/2017</th>\n",
              "      <td>Donald Trump</td>\n",
              "      <td>All polls</td>\n",
              "      <td>9/11/2019</td>\n",
              "      <td>1/22/2017</td>\n",
              "      <td>Gallup</td>\n",
              "      <td>B</td>\n",
              "      <td>1500.0</td>\n",
              "      <td>a</td>\n",
              "      <td>0.212047</td>\n",
              "      <td>0.0</td>\n",
              "      <td>46.0</td>\n",
              "      <td>45.0</td>\n",
              "      <td>47.13142</td>\n",
              "      <td>43.29468</td>\n",
              "      <td>NaN</td>\n",
              "      <td>T</td>\n",
              "      <td>http://www.gallup.com/poll/201617/gallup-daily...</td>\n",
              "      <td>49236</td>\n",
              "      <td>77248</td>\n",
              "      <td>1/25/2017</td>\n",
              "      <td>19:02:44 11 Sep 2019</td>\n",
              "    </tr>\n",
              "  </tbody>\n",
              "</table>\n",
              "</div>"
            ],
            "text/plain": [
              "              president   subgroup  ... createddate             timestamp\n",
              "enddate                             ...                                  \n",
              "1/22/2017  Donald Trump  All polls  ...   1/23/2017  19:02:44 11 Sep 2019\n",
              "1/22/2017  Donald Trump  All polls  ...   1/23/2017  19:02:44 11 Sep 2019\n",
              "1/23/2017  Donald Trump  All polls  ...   1/24/2017  19:02:44 11 Sep 2019\n",
              "1/24/2017  Donald Trump  All polls  ...    3/1/2017  19:02:44 11 Sep 2019\n",
              "1/24/2017  Donald Trump  All polls  ...   1/25/2017  19:02:44 11 Sep 2019\n",
              "\n",
              "[5 rows x 21 columns]"
            ]
          },
          "metadata": {
            "tags": []
          },
          "execution_count": 47
        }
      ]
    },
    {
      "cell_type": "code",
      "metadata": {
        "id": "PsDcyyblVqDd",
        "colab_type": "code",
        "colab": {
          "base_uri": "https://localhost:8080/",
          "height": 380
        },
        "outputId": "80532de0-d520-4f4d-922c-3ee657a4e195"
      },
      "source": [
        "def trump_approval_plot(df_data, x,y):\n",
        "  plt.style.use('fivethirtyeight')\n",
        "  fig = plt.figure()\n",
        "  fig.patch.set(facecolor='white')\n",
        "  \n",
        "  ax = df_data.plot(x, y, linewidth=.5)\n",
        "  ax.set(facecolor='white')\n",
        "  \n",
        "  return plt.show()\n",
        "\n",
        "trump_approval_plot(df['enddate'], df['disapprove'],df['approve'])"
      ],
      "execution_count": 42,
      "outputs": [
        {
          "output_type": "error",
          "ename": "AttributeError",
          "evalue": "ignored",
          "traceback": [
            "\u001b[0;31m---------------------------------------------------------------------------\u001b[0m",
            "\u001b[0;31mAttributeError\u001b[0m                            Traceback (most recent call last)",
            "\u001b[0;32m<ipython-input-42-d08af3d2a7b7>\u001b[0m in \u001b[0;36m<module>\u001b[0;34m()\u001b[0m\n\u001b[1;32m     11\u001b[0m   \u001b[0;32mreturn\u001b[0m \u001b[0mshow_elections\u001b[0m\u001b[0;34m\u001b[0m\u001b[0;34m\u001b[0m\u001b[0m\n\u001b[1;32m     12\u001b[0m \u001b[0;34m\u001b[0m\u001b[0m\n\u001b[0;32m---> 13\u001b[0;31m \u001b[0melection_forecast_plot\u001b[0m\u001b[0;34m(\u001b[0m\u001b[0mdf\u001b[0m\u001b[0;34m[\u001b[0m\u001b[0;34m'enddate'\u001b[0m\u001b[0;34m]\u001b[0m\u001b[0;34m,\u001b[0m \u001b[0mdf\u001b[0m\u001b[0;34m[\u001b[0m\u001b[0;34m'disapprove'\u001b[0m\u001b[0;34m]\u001b[0m\u001b[0;34m,\u001b[0m\u001b[0mdf\u001b[0m\u001b[0;34m[\u001b[0m\u001b[0;34m'approve'\u001b[0m\u001b[0;34m]\u001b[0m\u001b[0;34m)\u001b[0m\u001b[0;34m\u001b[0m\u001b[0;34m\u001b[0m\u001b[0m\n\u001b[0m",
            "\u001b[0;32m<ipython-input-42-d08af3d2a7b7>\u001b[0m in \u001b[0;36melection_forecast_plot\u001b[0;34m(df_data, x, y)\u001b[0m\n\u001b[1;32m      4\u001b[0m   \u001b[0mfig\u001b[0m\u001b[0;34m.\u001b[0m\u001b[0mpatch\u001b[0m\u001b[0;34m.\u001b[0m\u001b[0mset\u001b[0m\u001b[0;34m(\u001b[0m\u001b[0mfacecolor\u001b[0m\u001b[0;34m=\u001b[0m\u001b[0;34m'white'\u001b[0m\u001b[0;34m)\u001b[0m\u001b[0;34m\u001b[0m\u001b[0;34m\u001b[0m\u001b[0m\n\u001b[1;32m      5\u001b[0m \u001b[0;34m\u001b[0m\u001b[0m\n\u001b[0;32m----> 6\u001b[0;31m   \u001b[0max\u001b[0m \u001b[0;34m=\u001b[0m \u001b[0mdf_data\u001b[0m\u001b[0;34m.\u001b[0m\u001b[0mplot\u001b[0m\u001b[0;34m(\u001b[0m\u001b[0mx\u001b[0m\u001b[0;34m,\u001b[0m \u001b[0my\u001b[0m\u001b[0;34m,\u001b[0m \u001b[0mlinewidth\u001b[0m\u001b[0;34m=\u001b[0m\u001b[0;36m.5\u001b[0m\u001b[0;34m)\u001b[0m\u001b[0;34m\u001b[0m\u001b[0;34m\u001b[0m\u001b[0m\n\u001b[0m\u001b[1;32m      7\u001b[0m   \u001b[0max\u001b[0m\u001b[0;34m.\u001b[0m\u001b[0mset\u001b[0m\u001b[0;34m(\u001b[0m\u001b[0mfacecolor\u001b[0m\u001b[0;34m=\u001b[0m\u001b[0;34m'white'\u001b[0m\u001b[0;34m)\u001b[0m\u001b[0;34m\u001b[0m\u001b[0;34m\u001b[0m\u001b[0m\n\u001b[1;32m      8\u001b[0m \u001b[0;34m\u001b[0m\u001b[0m\n",
            "\u001b[0;32m/usr/local/lib/python3.6/dist-packages/pandas/plotting/_core.py\u001b[0m in \u001b[0;36m__call__\u001b[0;34m(self, kind, ax, figsize, use_index, title, grid, legend, style, logx, logy, loglog, xticks, yticks, xlim, ylim, rot, fontsize, colormap, table, yerr, xerr, label, secondary_y, **kwds)\u001b[0m\n\u001b[1;32m   2740\u001b[0m                            \u001b[0mcolormap\u001b[0m\u001b[0;34m=\u001b[0m\u001b[0mcolormap\u001b[0m\u001b[0;34m,\u001b[0m \u001b[0mtable\u001b[0m\u001b[0;34m=\u001b[0m\u001b[0mtable\u001b[0m\u001b[0;34m,\u001b[0m \u001b[0myerr\u001b[0m\u001b[0;34m=\u001b[0m\u001b[0myerr\u001b[0m\u001b[0;34m,\u001b[0m\u001b[0;34m\u001b[0m\u001b[0;34m\u001b[0m\u001b[0m\n\u001b[1;32m   2741\u001b[0m                            \u001b[0mxerr\u001b[0m\u001b[0;34m=\u001b[0m\u001b[0mxerr\u001b[0m\u001b[0;34m,\u001b[0m \u001b[0mlabel\u001b[0m\u001b[0;34m=\u001b[0m\u001b[0mlabel\u001b[0m\u001b[0;34m,\u001b[0m \u001b[0msecondary_y\u001b[0m\u001b[0;34m=\u001b[0m\u001b[0msecondary_y\u001b[0m\u001b[0;34m,\u001b[0m\u001b[0;34m\u001b[0m\u001b[0;34m\u001b[0m\u001b[0m\n\u001b[0;32m-> 2742\u001b[0;31m                            **kwds)\n\u001b[0m\u001b[1;32m   2743\u001b[0m     \u001b[0m__call__\u001b[0m\u001b[0;34m.\u001b[0m\u001b[0m__doc__\u001b[0m \u001b[0;34m=\u001b[0m \u001b[0mplot_series\u001b[0m\u001b[0;34m.\u001b[0m\u001b[0m__doc__\u001b[0m\u001b[0;34m\u001b[0m\u001b[0;34m\u001b[0m\u001b[0m\n\u001b[1;32m   2744\u001b[0m \u001b[0;34m\u001b[0m\u001b[0m\n",
            "\u001b[0;32m/usr/local/lib/python3.6/dist-packages/pandas/plotting/_core.py\u001b[0m in \u001b[0;36mplot_series\u001b[0;34m(data, kind, ax, figsize, use_index, title, grid, legend, style, logx, logy, loglog, xticks, yticks, xlim, ylim, rot, fontsize, colormap, table, yerr, xerr, label, secondary_y, **kwds)\u001b[0m\n\u001b[1;32m   1996\u001b[0m                  \u001b[0myerr\u001b[0m\u001b[0;34m=\u001b[0m\u001b[0myerr\u001b[0m\u001b[0;34m,\u001b[0m \u001b[0mxerr\u001b[0m\u001b[0;34m=\u001b[0m\u001b[0mxerr\u001b[0m\u001b[0;34m,\u001b[0m\u001b[0;34m\u001b[0m\u001b[0;34m\u001b[0m\u001b[0m\n\u001b[1;32m   1997\u001b[0m                  \u001b[0mlabel\u001b[0m\u001b[0;34m=\u001b[0m\u001b[0mlabel\u001b[0m\u001b[0;34m,\u001b[0m \u001b[0msecondary_y\u001b[0m\u001b[0;34m=\u001b[0m\u001b[0msecondary_y\u001b[0m\u001b[0;34m,\u001b[0m\u001b[0;34m\u001b[0m\u001b[0;34m\u001b[0m\u001b[0m\n\u001b[0;32m-> 1998\u001b[0;31m                  **kwds)\n\u001b[0m\u001b[1;32m   1999\u001b[0m \u001b[0;34m\u001b[0m\u001b[0m\n\u001b[1;32m   2000\u001b[0m \u001b[0;34m\u001b[0m\u001b[0m\n",
            "\u001b[0;32m/usr/local/lib/python3.6/dist-packages/pandas/plotting/_core.py\u001b[0m in \u001b[0;36m_plot\u001b[0;34m(data, x, y, subplots, ax, kind, **kwds)\u001b[0m\n\u001b[1;32m   1729\u001b[0m def _plot(data, x=None, y=None, subplots=False,\n\u001b[1;32m   1730\u001b[0m           ax=None, kind='line', **kwds):\n\u001b[0;32m-> 1731\u001b[0;31m     \u001b[0mkind\u001b[0m \u001b[0;34m=\u001b[0m \u001b[0m_get_standard_kind\u001b[0m\u001b[0;34m(\u001b[0m\u001b[0mkind\u001b[0m\u001b[0;34m.\u001b[0m\u001b[0mlower\u001b[0m\u001b[0;34m(\u001b[0m\u001b[0;34m)\u001b[0m\u001b[0;34m.\u001b[0m\u001b[0mstrip\u001b[0m\u001b[0;34m(\u001b[0m\u001b[0;34m)\u001b[0m\u001b[0;34m)\u001b[0m\u001b[0;34m\u001b[0m\u001b[0;34m\u001b[0m\u001b[0m\n\u001b[0m\u001b[1;32m   1732\u001b[0m     \u001b[0;32mif\u001b[0m \u001b[0mkind\u001b[0m \u001b[0;32min\u001b[0m \u001b[0m_all_kinds\u001b[0m\u001b[0;34m:\u001b[0m\u001b[0;34m\u001b[0m\u001b[0;34m\u001b[0m\u001b[0m\n\u001b[1;32m   1733\u001b[0m         \u001b[0mklass\u001b[0m \u001b[0;34m=\u001b[0m \u001b[0m_plot_klass\u001b[0m\u001b[0;34m[\u001b[0m\u001b[0mkind\u001b[0m\u001b[0;34m]\u001b[0m\u001b[0;34m\u001b[0m\u001b[0;34m\u001b[0m\u001b[0m\n",
            "\u001b[0;32m/usr/local/lib/python3.6/dist-packages/pandas/core/generic.py\u001b[0m in \u001b[0;36m__getattr__\u001b[0;34m(self, name)\u001b[0m\n\u001b[1;32m   5065\u001b[0m             \u001b[0;32mif\u001b[0m \u001b[0mself\u001b[0m\u001b[0;34m.\u001b[0m\u001b[0m_info_axis\u001b[0m\u001b[0;34m.\u001b[0m\u001b[0m_can_hold_identifiers_and_holds_name\u001b[0m\u001b[0;34m(\u001b[0m\u001b[0mname\u001b[0m\u001b[0;34m)\u001b[0m\u001b[0;34m:\u001b[0m\u001b[0;34m\u001b[0m\u001b[0;34m\u001b[0m\u001b[0m\n\u001b[1;32m   5066\u001b[0m                 \u001b[0;32mreturn\u001b[0m \u001b[0mself\u001b[0m\u001b[0;34m[\u001b[0m\u001b[0mname\u001b[0m\u001b[0;34m]\u001b[0m\u001b[0;34m\u001b[0m\u001b[0;34m\u001b[0m\u001b[0m\n\u001b[0;32m-> 5067\u001b[0;31m             \u001b[0;32mreturn\u001b[0m \u001b[0mobject\u001b[0m\u001b[0;34m.\u001b[0m\u001b[0m__getattribute__\u001b[0m\u001b[0;34m(\u001b[0m\u001b[0mself\u001b[0m\u001b[0;34m,\u001b[0m \u001b[0mname\u001b[0m\u001b[0;34m)\u001b[0m\u001b[0;34m\u001b[0m\u001b[0;34m\u001b[0m\u001b[0m\n\u001b[0m\u001b[1;32m   5068\u001b[0m \u001b[0;34m\u001b[0m\u001b[0m\n\u001b[1;32m   5069\u001b[0m     \u001b[0;32mdef\u001b[0m \u001b[0m__setattr__\u001b[0m\u001b[0;34m(\u001b[0m\u001b[0mself\u001b[0m\u001b[0;34m,\u001b[0m \u001b[0mname\u001b[0m\u001b[0;34m,\u001b[0m \u001b[0mvalue\u001b[0m\u001b[0;34m)\u001b[0m\u001b[0;34m:\u001b[0m\u001b[0;34m\u001b[0m\u001b[0;34m\u001b[0m\u001b[0m\n",
            "\u001b[0;31mAttributeError\u001b[0m: 'Series' object has no attribute 'lower'"
          ]
        },
        {
          "output_type": "display_data",
          "data": {
            "text/plain": [
              "<Figure size 432x288 with 0 Axes>"
            ]
          },
          "metadata": {
            "tags": []
          }
        }
      ]
    },
    {
      "cell_type": "code",
      "metadata": {
        "id": "VmKKljnPU4GN",
        "colab_type": "code",
        "colab": {
          "base_uri": "https://localhost:8080/",
          "height": 357
        },
        "outputId": "bf37c20e-e30c-4366-966f-10fe3a5188fb"
      },
      "source": [
        "display(example)"
      ],
      "execution_count": 5,
      "outputs": [
        {
          "output_type": "display_data",
          "data": {
            "text/html": [
              "<img src=\"https://github.com/JeanFraga/DS-Unit-1-Sprint-2-Data-Wrangling-and-Storytelling/raw/master/module3-make-explanatory-visualizations/Trump_approval_ratings.PNG\" width=\"600\"/>"
            ],
            "text/plain": [
              "<IPython.core.display.Image object>"
            ]
          },
          "metadata": {
            "tags": []
          }
        }
      ]
    },
    {
      "cell_type": "markdown",
      "metadata": {
        "id": "0wSrBzmJyWaV",
        "colab_type": "text"
      },
      "source": [
        "# STRETCH OPTIONS\n",
        "\n",
        "### 1) Reproduce one of the following using the matplotlib or seaborn libraries:\n",
        "\n",
        "- [thanksgiving-2015](https://fivethirtyeight.com/features/heres-what-your-part-of-america-eats-on-thanksgiving/) \n",
        "- [candy-power-ranking](https://fivethirtyeight.com/features/the-ultimate-halloween-candy-power-ranking/) \n",
        "- or another example of your choice!\n",
        "\n",
        "### 2) Make more charts!\n",
        "\n",
        "Choose a chart you want to make, from [Visual Vocabulary - Vega Edition](http://ft.com/vocabulary).\n",
        "\n",
        "Find the chart in an example gallery of a Python data visualization library:\n",
        "- [Seaborn](http://seaborn.pydata.org/examples/index.html)\n",
        "- [Altair](https://altair-viz.github.io/gallery/index.html)\n",
        "- [Matplotlib](https://matplotlib.org/gallery.html)\n",
        "- [Pandas](https://pandas.pydata.org/pandas-docs/stable/visualization.html)\n",
        "\n",
        "Reproduce the chart. [Optionally, try the \"Ben Franklin Method.\"](https://docs.google.com/document/d/1ubOw9B3Hfip27hF2ZFnW3a3z9xAgrUDRReOEo-FHCVs/edit) If you want, experiment and make changes.\n",
        "\n",
        "Take notes. Consider sharing your work with your cohort!"
      ]
    },
    {
      "cell_type": "code",
      "metadata": {
        "id": "dRJkKftiy5BJ",
        "colab_type": "code",
        "colab": {}
      },
      "source": [
        "# More Work Here"
      ],
      "execution_count": 0,
      "outputs": []
    }
  ]
}